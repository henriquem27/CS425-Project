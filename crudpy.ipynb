{
 "cells": [
  {
   "cell_type": "code",
   "execution_count": 8,
   "metadata": {},
   "outputs": [],
   "source": [
    "import psycopg2\n",
    "\n",
    "import pandas as pd\n",
    "\n",
    "conn = psycopg2.connect(\n",
    "    host=\"127.0.0.1\",\n",
    "    database='Project-Test',\n",
    "    user='postgres',\n",
    "    password='123qw123'\n",
    ")\n",
    "\n"
   ]
  },
  {
   "cell_type": "code",
   "execution_count": 16,
   "metadata": {},
   "outputs": [
    {
     "data": {
      "text/plain": [
       "datetime.date(2000, 1, 1)"
      ]
     },
     "execution_count": 16,
     "metadata": {},
     "output_type": "execute_result"
    }
   ],
   "source": [
    "cur = conn.cursor()\n",
    "data= (1)\n",
    "cursor = conn.cursor()\n",
    "\n",
    "DATA=(startupdatdata,endupdatedata,int(seasonupdata))\n",
    "QUERY=\"UPDATE seasons SET (start_date,end_date)=(%s,%s) WHERE season_id=(%s)\"\n",
    "cursor.execute(QUERY,DATA)\n",
    "\n",
    "x[0][1]"
   ]
  },
  {
   "cell_type": "code",
   "execution_count": 20,
   "metadata": {},
   "outputs": [
    {
     "data": {
      "text/html": [
       "<div>\n",
       "<style scoped>\n",
       "    .dataframe tbody tr th:only-of-type {\n",
       "        vertical-align: middle;\n",
       "    }\n",
       "\n",
       "    .dataframe tbody tr th {\n",
       "        vertical-align: top;\n",
       "    }\n",
       "\n",
       "    .dataframe thead th {\n",
       "        text-align: right;\n",
       "    }\n",
       "</style>\n",
       "<table border=\"1\" class=\"dataframe\">\n",
       "  <thead>\n",
       "    <tr style=\"text-align: right;\">\n",
       "      <th></th>\n",
       "      <th>0</th>\n",
       "      <th>1</th>\n",
       "      <th>2</th>\n",
       "    </tr>\n",
       "  </thead>\n",
       "  <tbody>\n",
       "    <tr>\n",
       "      <th>0</th>\n",
       "      <td>2022</td>\n",
       "      <td>2022-01-01</td>\n",
       "      <td>2022-12-31</td>\n",
       "    </tr>\n",
       "    <tr>\n",
       "      <th>1</th>\n",
       "      <td>2021</td>\n",
       "      <td>2021-01-01</td>\n",
       "      <td>2021-12-31</td>\n",
       "    </tr>\n",
       "    <tr>\n",
       "      <th>2</th>\n",
       "      <td>2023</td>\n",
       "      <td>2023-01-01</td>\n",
       "      <td>2023-12-31</td>\n",
       "    </tr>\n",
       "  </tbody>\n",
       "</table>\n",
       "</div>"
      ],
      "text/plain": [
       "      0           1           2\n",
       "0  2022  2022-01-01  2022-12-31\n",
       "1  2021  2021-01-01  2021-12-31\n",
       "2  2023  2023-01-01  2023-12-31"
      ]
     },
     "execution_count": 20,
     "metadata": {},
     "output_type": "execute_result"
    }
   ],
   "source": [
    "df = pd.DataFrame(x)\n",
    "df"
   ]
  },
  {
   "cell_type": "code",
   "execution_count": 25,
   "metadata": {},
   "outputs": [
    {
     "name": "stdout",
     "output_type": "stream",
     "text": [
      "Available Options: C=Create, R=Read, U=Update, D=Delete \n"
     ]
    },
    {
     "ename": "TypeError",
     "evalue": "Create.func_CreateData() takes 0 positional arguments but 1 was given",
     "output_type": "error",
     "traceback": [
      "\u001b[0;31m---------------------------------------------------------------------------\u001b[0m",
      "\u001b[0;31mTypeError\u001b[0m                                 Traceback (most recent call last)",
      "\u001b[1;32m/Users/henrique/Documents/IIT/IITFALL2023/CS425-Project/crudpy.ipynb Cell 4\u001b[0m line \u001b[0;36m2\n\u001b[1;32m     <a href='vscode-notebook-cell:/Users/henrique/Documents/IIT/IITFALL2023/CS425-Project/crudpy.ipynb#W3sZmlsZQ%3D%3D?line=24'>25</a>\u001b[0m         \u001b[39mprint\u001b[39m(\u001b[39m'\u001b[39m\u001b[39mWrong choice, You are going exist.\u001b[39m\u001b[39m'\u001b[39m)\n\u001b[1;32m     <a href='vscode-notebook-cell:/Users/henrique/Documents/IIT/IITFALL2023/CS425-Project/crudpy.ipynb#W3sZmlsZQ%3D%3D?line=27'>28</a>\u001b[0m \u001b[39m# Call the main function\u001b[39;00m\n\u001b[0;32m---> <a href='vscode-notebook-cell:/Users/henrique/Documents/IIT/IITFALL2023/CS425-Project/crudpy.ipynb#W3sZmlsZQ%3D%3D?line=28'>29</a>\u001b[0m main()\n",
      "\u001b[1;32m/Users/henrique/Documents/IIT/IITFALL2023/CS425-Project/crudpy.ipynb Cell 4\u001b[0m line \u001b[0;36m2\n\u001b[1;32m     <a href='vscode-notebook-cell:/Users/henrique/Documents/IIT/IITFALL2023/CS425-Project/crudpy.ipynb#W3sZmlsZQ%3D%3D?line=20'>21</a>\u001b[0m \u001b[39mif\u001b[39;00m choice \u001b[39m==\u001b[39m \u001b[39m'\u001b[39m\u001b[39mC\u001b[39m\u001b[39m'\u001b[39m:\n\u001b[1;32m     <a href='vscode-notebook-cell:/Users/henrique/Documents/IIT/IITFALL2023/CS425-Project/crudpy.ipynb#W3sZmlsZQ%3D%3D?line=21'>22</a>\u001b[0m     createObj\u001b[39m=\u001b[39mCreate()\n\u001b[0;32m---> <a href='vscode-notebook-cell:/Users/henrique/Documents/IIT/IITFALL2023/CS425-Project/crudpy.ipynb#W3sZmlsZQ%3D%3D?line=22'>23</a>\u001b[0m     createObj\u001b[39m.\u001b[39;49mfunc_CreateData()\n\u001b[1;32m     <a href='vscode-notebook-cell:/Users/henrique/Documents/IIT/IITFALL2023/CS425-Project/crudpy.ipynb#W3sZmlsZQ%3D%3D?line=23'>24</a>\u001b[0m \u001b[39melse\u001b[39;00m:\n\u001b[1;32m     <a href='vscode-notebook-cell:/Users/henrique/Documents/IIT/IITFALL2023/CS425-Project/crudpy.ipynb#W3sZmlsZQ%3D%3D?line=24'>25</a>\u001b[0m     \u001b[39mprint\u001b[39m(\u001b[39m'\u001b[39m\u001b[39mWrong choice, You are going exist.\u001b[39m\u001b[39m'\u001b[39m)\n",
      "\u001b[0;31mTypeError\u001b[0m: Create.func_CreateData() takes 0 positional arguments but 1 was given"
     ]
    }
   ],
   "source": [
    "#from read import Read\n",
    "from create import Create\n",
    "#from update import Update\n",
    "#from delete import Delete\n",
    "import psycopg2\n",
    "\n",
    "import pandas as pd\n",
    "\n",
    "conn = psycopg2.connect(\n",
    "    host=\"127.0.0.1\",\n",
    "    database='Project-Test',\n",
    "    user='postgres',\n",
    "    password='123qw123'\n",
    ")\n",
    "\n",
    "\n",
    "def main():\n",
    "    print('Available Options: C=Create, R=Read, U=Update, D=Delete ')\n",
    "    choice = input('Choose your option = ')\n",
    "\n",
    "    if choice == 'C':\n",
    "        createObj=Create()\n",
    "        createObj.func_CreateData()\n",
    "    else:\n",
    "        print('Wrong choice, You are going exist.')\n",
    "\n",
    "\n",
    "# Call the main function\n",
    "main()"
   ]
  },
  {
   "cell_type": "code",
   "execution_count": 23,
   "metadata": {},
   "outputs": [],
   "source": [
    "class Create:\n",
    "    def func_CreateData(self):\n",
    "        season = input('Enter season=')\n",
    "        start_date= input('Enter Start Date (mm-dd-yyyy)')\n",
    "        end_date= input('Enter Start Date (mm-dd-yyyy)', )\n",
    "        try:\n",
    "            cursor = conn.cursor()\n",
    "            cursor.execute(\"INSERT INTO SEASON (season_id,start_date,end_date) VALUES(%s,%s,%s)\",(season,start_date,end_date))\n",
    "            \n",
    "            print(\"Data was suscessfully inserted\")\n",
    "\n",
    "        except:\n",
    "            print(\"OPS, something went wrong. Please check the data\")\n",
    "\n",
    "        finally:\n",
    "            conn.commit()"
   ]
  },
  {
   "cell_type": "code",
   "execution_count": 28,
   "metadata": {},
   "outputs": [
    {
     "name": "stdout",
     "output_type": "stream",
     "text": [
      "2020-05-17\n"
     ]
    }
   ],
   "source": [
    "import datetime\n",
    "\n",
    "x = datetime.date(2020, 5, 17)\n",
    "\n",
    "print(x)"
   ]
  },
  {
   "cell_type": "code",
   "execution_count": 31,
   "metadata": {},
   "outputs": [
    {
     "name": "stdout",
     "output_type": "stream",
     "text": [
      "2020-05-17\n"
     ]
    }
   ],
   "source": [
    "x=input('date')\n",
    "\n",
    "\n",
    "year, month, day = map(int, x.split('-'))\n",
    "\n",
    "d=datetime.date(year,month,day)\n",
    "\n",
    "print(d)"
   ]
  },
  {
   "cell_type": "code",
   "execution_count": 44,
   "metadata": {},
   "outputs": [],
   "source": [
    "\"\"\" season = input('Enter season=')\n",
    "start_date= input('Enter Start Date (-dd-yyyy)')\n",
    "year, month, day = map(int, start_date.split('-'))\n",
    "start_date=datetime.date(year,month,day)\n",
    "end_date= input('Enter End Date (mm-dd-yyyy)')\n",
    "year, month, day = map(int, end_date.split('-'))\n",
    "end_date=datetime.date(year,month,day) \"\"\"        \n",
    "\n",
    "season=2002\n",
    "\n",
    "start_date=datetime.date(2002,5,20)\n",
    "end_date=datetime.date(2002,5,21)\n",
    "QUERY=\"INSERT INTO seasons VALUES (%s,%s,%s);\"\n",
    "DATA=(season,start_date,end_date)\n",
    "\n",
    "\n",
    "cursor = conn.cursor()\n",
    "\n",
    "cursor.execute(QUERY,DATA)\n",
    "\n",
    "conn.commit()"
   ]
  },
  {
   "cell_type": "code",
   "execution_count": null,
   "metadata": {},
   "outputs": [],
   "source": []
  }
 ],
 "metadata": {
  "kernelspec": {
   "display_name": "base",
   "language": "python",
   "name": "python3"
  },
  "language_info": {
   "codemirror_mode": {
    "name": "ipython",
    "version": 3
   },
   "file_extension": ".py",
   "mimetype": "text/x-python",
   "name": "python",
   "nbconvert_exporter": "python",
   "pygments_lexer": "ipython3",
   "version": "3.10.9"
  }
 },
 "nbformat": 4,
 "nbformat_minor": 2
}
